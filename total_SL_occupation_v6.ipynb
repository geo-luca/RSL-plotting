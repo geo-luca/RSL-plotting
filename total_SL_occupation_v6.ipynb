{
 "cells": [
  {
   "cell_type": "markdown",
   "id": "rapid-tuner",
   "metadata": {},
   "source": [
    "## Total sea level occupation\n",
    "\n",
    "#### Figure that shows the cumulative sea level occupation along bedrock elevation datum and inform potential of terrace creation preservation\n",
    "\n",
    "Supplementary material for the manuscript submitted to Geology: Malatesta, L. C., Finnegan, N. J., Huppert, K., and Carreño, E.: The influence of rock uplift rate on the formation and preservation of individual marine terraces during multiple sea level stand,\n",
    "Luca C. Malatesta, May 2021, luca.malatesta@gfz-potsdam.de, GitHub geo-luca"
   ]
  },
  {
   "cell_type": "code",
   "execution_count": 1,
   "id": "worldwide-delhi",
   "metadata": {},
   "outputs": [],
   "source": [
    "# switch to a graphics backend that allows interactions. standard is 'inline' which creates a static figure\n",
    "# if plots don't show, try shutdown, and run 'jupyter lab build' in the terminal\n",
    "%matplotlib ipympl\n",
    "\n",
    "import numpy as np\n",
    "import pandas as pd\n",
    "import math\n",
    "from   scipy import stats\n",
    "\n",
    "import matplotlib\n",
    "import matplotlib.pyplot as plt\n",
    "import matplotlib.gridspec as gridspec\n",
    "from   matplotlib.pyplot import figure\n",
    "import mpl_interactions.ipyplot as iplt\n",
    "from   matplotlib.widgets import Slider\n",
    "import mpl_interactions.ipyplot as iplt\n",
    "from   cmcrameri import cm # import scientific colormaps by Fabio Crameri...\n",
    "                           # ... they can be installed with: conda install -c conda-forge matplotlib numpy pandas crameri"
   ]
  },
  {
   "cell_type": "code",
   "execution_count": 2,
   "id": "criminal-classic",
   "metadata": {},
   "outputs": [],
   "source": [
    "# parameters\n",
    "\n",
    "Tmax    = 300      # maximum age of sea level record, ka\n",
    "Uminmax = [0.0, 1.5] # range of rock uplift rate to test, mm/yr"
   ]
  },
  {
   "cell_type": "code",
   "execution_count": 15,
   "id": "critical-constitutional",
   "metadata": {},
   "outputs": [],
   "source": [
    "# import sea level curves\n",
    "# data should be organized in a csv file with age in ka in the first column and elevation in m in the second column.\n",
    "# First row headers should be 'Age, ka' and 'Elevation, m'\n",
    "\n",
    "# create dictionaries\n",
    "\n",
    "dfs = {}        # dictionary for the dataframes\n",
    "d_Tmax   = {}   # dictionary for maximum time\n",
    "d_occup  = {}   # dictionary for 2D arrays to store occupation time\n",
    "d_occupmax = {} # dictionary just for the max value of occupation\n",
    "d_rcrd   = {}   # dictionary for 2D array storing relative SL\n",
    "d_Zrange = {}   # dictionary for 1D range covering all elevations at max uplift\n",
    "\n",
    "dfs['SL_SL16'] = pd.read_csv(\"./SLcurves/SL_Spratt_Lisiecki_16.csv\") # import Spratt & Lisiecki, 2016\n",
    "dfs['SL_Mi05'] = pd.read_csv(\"./SLcurves/SL_Miller_et_al_05.csv\")    # import Miller et al., 2005, going back to 170Ma, too coarse for Pleistocene\n",
    "dfs['SL_Le02'] = pd.read_csv(\"./SLcurves/SL_Lea_et_al_02.csv\")       # import Lea et al., 2002\n",
    "dfs['SL_LR05'] = pd.read_csv(\"./SLcurves/SL_Lisiecki_Raymo_05.csv\")  # import Lisiecki & Raymo, 2005\n",
    "dfs['SL_Wh20'] = pd.read_csv(\"./SLcurves/SL_westerhold_et_al_20.csv\")# import Westerhold et al., 2020\n",
    "\n",
    "d_source = {                                  # dictionary linking source key and full name\n",
    "    'Lea et al., 2002':        'SL_Le02',\n",
    "    'Lisiecki & Raymo, 2005':  'SL_LR05',\n",
    "    'Miller et al., 2005':     'SL_Mi05',\n",
    "    'Spratt & Lisiecki, 2016': 'SL_SL16',\n",
    "    'Westerhold et al., 2020': 'SL_Wh20',\n",
    "}\n",
    "# don't forget to update the control command in the plot if you add additional SL curves\n",
    "\n",
    "# references:\n",
    "# D. W. Lea, P. A. Martin, D. K. Pak, and H. J. Spero. Reconstructing a 350ky history of sea level using planktonic mg/ca\n",
    "# and oxygen isotope records from a cocos ridge core. Quaternary Science Reviews, 21(1):283–293, 2002. ISSN 0277-3791.\n",
    "# doi: 10.1016/S0277-3791(01)00081-6.\n",
    "# L. E. Lisiecki and M. E. Raymo. A pliocene-pleistocene stack of 57 globally distributed benthic δ18O records.\n",
    "# Paleoceanography, 20(1), 2005. doi: 10.1029/2004PA001071.\n",
    "# K.G. Miller, M.A. Kominz, J.V. Browning, J.D. Wright, G.S. Mountain, M.E. Katz, P.J. Sugarman, B.S. Cramer, N. Christie-Blick\n",
    "# and S.F. Pekar, , 2005. The Phanerozoic record of global sea-level change. science, 310(5752), pp.1293-1298.\n",
    "# R.M. Spratt, and L.E. Lisiecki, L.E., 2016, A Late Pleistocene sea level stack: Climate of the 324 Past, v. 12, p. 1079–1092,\n",
    "# https://doi.org/10.5194/cp-12-1079-2016.\n",
    "# T. Westerhold, N. Marwan, A.J. Drury, D. Liebrand, C. Agnini, E. Anagnostou, J.S. Barnet, S.M. Bohaty, D. De Vleeschouwer,\n",
    "# F. Florindo and T. Frederichs, 2020. An astronomically dated record of Earth’s climate and its predictability over\n",
    "# the last 66 million years. Science, 369(6509), pp.1383-1387."
   ]
  },
  {
   "cell_type": "code",
   "execution_count": 16,
   "id": "skilled-parliament",
   "metadata": {},
   "outputs": [],
   "source": [
    "# Choose and trim the sea level curve\n",
    "\n",
    "for key in dfs.keys():   # returns combination of keys and values\n",
    "    if Tmax > dfs[key][\"Age, ka\"].max():            # if Tmax is older than max age of record...\n",
    "        d_Tmax[key] = dfs[key][\"Age, ka\"].max()   # ... adapt Tmax to actual max age.\n",
    "    else:\n",
    "        d_Tmax[key] = Tmax                        # otherwise keep Tmax defined at top\n",
    "        \n",
    "    dfs[key] = dfs[key][( dfs[key][\"Age, ka\"] <= d_Tmax[key] )]      # cut off SL older than max age"
   ]
  },
  {
   "cell_type": "code",
   "execution_count": 17,
   "id": "annual-administration",
   "metadata": {},
   "outputs": [],
   "source": [
    "# Calculate distribution of sea level occupation under different uplift rates\n",
    "\n",
    "U_range = np.linspace(Uminmax[0], Uminmax[1], 401)    # range of uplift rates\n",
    "    \n",
    "for key in dfs.keys():    # loop through dictionary keys\n",
    "    Z_min   = np.floor( np.amin(dfs[key][\"Elevation, m\"].values + dfs[key][\"Age, ka\"].values * Uminmax[0]) ) # lowest elevation in array\n",
    "    Z_max   = np.ceil ( np.amax(dfs[key][\"Elevation, m\"].values + dfs[key][\"Age, ka\"].values * Uminmax[1]) ) # highest elevation in array\n",
    "    d_Zrange[key] = np.linspace(Z_min, Z_max, 401)   # range of elevations\n",
    "    \n",
    "    d_occup[key] = np.zeros( (d_Zrange[key].size, U_range.size) )   # array to store SL occupation as a function of elev. and uplft rate\n",
    "    d_rcrd[key]  = np.zeros( (U_range.size, len(dfs[key])))           # array to store RSL as a function of uplift rate\n",
    "    \n",
    "    for i in range(0, U_range.size):     # start loop \n",
    "        RSL = dfs[key][\"Elevation, m\"].values + dfs[key][\"Age, ka\"].values * U_range[i]    # relative sea level under current uplift\n",
    "        d_rcrd[key][i,:] = RSL                                                           # store RSL in the dictionary\n",
    "\n",
    "        RSL_kernel = stats.gaussian_kde(RSL)                              # compute kernel distribution estimate\n",
    "        RSL_kernel.set_bandwidth(bw_method=RSL_kernel.factor / 5.)        # modify the bandwith\n",
    "        d_occup[key][:,i] = RSL_kernel(d_Zrange[key]) * d_Tmax[key] # multiply by total time and save distribution in array as kyr\n",
    "    d_occupmax[key] = np.amax(d_occup[key])"
   ]
  },
  {
   "cell_type": "code",
   "execution_count": 18,
   "id": "secure-cylinder",
   "metadata": {},
   "outputs": [
    {
     "data": {
      "application/vnd.jupyter.widget-view+json": {
       "model_id": "8e8485053ca34d2cab4580a619e81e71",
       "version_major": 2,
       "version_minor": 0
      },
      "text/plain": [
       "Canvas(toolbar=Toolbar(toolitems=[('Home', 'Reset original view', 'home', 'home'), ('Back', 'Back to previous …"
      ]
     },
     "metadata": {},
     "output_type": "display_data"
    },
    {
     "data": {
      "application/vnd.jupyter.widget-view+json": {
       "model_id": "44a200beaf1046a49ef556ca0bac6f07",
       "version_major": 2,
       "version_minor": 0
      },
      "text/plain": [
       "VBox(children=(HBox(children=(IntSlider(value=0, description='Uplift_rate', max=400, readout=False), Label(val…"
      ]
     },
     "metadata": {},
     "output_type": "display_data"
    }
   ],
   "source": [
    "# Plotting\n",
    "\n",
    "# extract some values for axes limits:\n",
    "ymin = Tmax * np.amin(U_range) -150\n",
    "ymax = Tmax * np.amax(U_range)\n",
    "max_occup = max(d_occupmax.values())  # max occup time of all RSLs (x-axis limit in center plot)\n",
    "\n",
    "# setup the plotting frame xxxxxxxxxxxxxxxxxxxxxxxxxxxxxxxxxxxxxxxxxxxxxxxxxxxxxxxxxxxxxxxxxxxxxxxxxxxxxxxxxxxxxxxxxxxxxxxxxx\n",
    "fig1 = plt.figure(constrained_layout=True)\n",
    "fig1.set_size_inches(9, 3)\n",
    "spec1 = gridspec.GridSpec(ncols=7, nrows=1, figure=fig1) \n",
    "f1_ax1 = fig1.add_subplot(spec1[0, 0:3])\n",
    "f1_ax2 = fig1.add_subplot(spec1[0, 3])\n",
    "f1_ax3 = fig1.add_subplot(spec1[0, 4:])\n",
    "\n",
    "Uplift_rate = U_range      # parameter for plot interactivity\n",
    "\n",
    "# define functions for the interactive plot xxxxxxxxxxxxxxxxxxxxxxxxxxxxxxxxxxxxxxxxxxxxxxxxxxxxxxxxxxxxxxxxxxxxxxxxxxxxxxx\n",
    "def f1x(Uplift_rate, type_):              # age of record, x axis\n",
    "    return dfs[d_source[type_]][\"Age, ka\"].values\n",
    "\n",
    "def f1y(f1x, Uplift_rate, type_):         # relative sea level, y axis\n",
    "    return d_rcrd[d_source[type_]][np.argwhere(U_range == Uplift_rate).squeeze()]\n",
    "\n",
    "def f1ybis(f1x, Uplift_rate, type_):      # reference sea level, y axis\n",
    "    return dfs[d_source[type_]][\"Elevation, m\"]\n",
    "\n",
    "# define functions for total sea level occupation xxxxxxxxxxxxxxxxxxxxxxxxxxxxxxxxxxxxxxxxxxxxxxxxxxxxxxxxxxxxxxxxxxxxxxxxx\n",
    "def f2x(Uplift_rate, type_):              # total occupation time, x axis\n",
    "    return d_occup[d_source[type_]][:,np.argwhere(U_range == Uplift_rate).squeeze()]\n",
    "    \n",
    "def f2y(f2x, Uplift_rate, type_):         # elevation range, y axis\n",
    "    return d_Zrange[d_source[type_]]\n",
    "\n",
    "# define function for total sea level occupation heatmap xxxxxxxxxxxxxxxxxxxxxxxxxxxxxxxxxxxxxxxxxxxxxxxxxxxxxxxxxxxxxxxxxx\n",
    "def f3M (Uplift_rate, type_):             # full map of occupation times (2D array)\n",
    "    return d_occup[d_source[type_]]\n",
    "    \n",
    "def f3x(Uplift_rate, type_):              # uplift rate, x axis\n",
    "    return Uplift_rate\n",
    "    \n",
    "\n",
    "# LEFT PLOT, relative sea level  xxxxxxxxxxxxxxxxxxxxxxxxxxxxxxxxxxxxxxxxxxxxxxxxxxxxxxxxxxxxxxxxxxxxxxxxxxxxxxxxxxxxxxxxxx\n",
    "controls = iplt.plot(f1x, f1y, Uplift_rate=Uplift_rate,\n",
    "                     type_={(\"Lea et al., 2002\",\"Lisiecki & Raymo, 2005\",\"Miller et al., 2005\",\"Spratt & Lisiecki, 2016\",\n",
    "                             \"Westerhold et al., 2020\")},\n",
    "                     ax=f1_ax1, color='darkblue')  # indicate, x, function, variable\n",
    "iplt.plot(f1x, f1ybis, controls=controls, color='darkblue', linewidth=0.5, ax=f1_ax1)\n",
    "f1_ax1.hlines(0, 0, Tmax, color='dimgrey',linewidth=1)         # plot a horizontal line at modern sea level\n",
    "f1_ax1.set_ylim(ymin, ymax)\n",
    "\n",
    "f1_ax1.grid(which='major', axis='y', color='lightgrey', linewidth=0.5)    # add horizontal grid lines\n",
    "f1_ax1.set_ylim(ymin, ymax)\n",
    "f1_ax1.set_ylabel('Elevation above modern sea level, m')\n",
    "f1_ax1.set_xlabel('Age, ka')  \n",
    "f1_ax1.set_title('Relative sea level')\n",
    "\n",
    "# CENTER PLOT, cumulative occupation xxxxxxxxxxxxxxxxxxxxxxxxxxxxxxxxxxxxxxxxxxxxxxxxxxxxxxxxxxxxxxxxxxxxxxxxxxxxxxxxxxxxxx\n",
    "iplt.plot(f2x, f2y, controls=controls,\n",
    "          ax=f1_ax2, color='mediumslateblue',linewidth=2)\n",
    "f1_ax2.hlines(0, 0, max_occup, color='dimgrey',linewidth=1)    # plot a horizontal line at modern sea level\n",
    "\n",
    "f1_ax2.grid(which='major', axis='y', color='lightgrey', linewidth=0.5)            # add horizontal grid lines\n",
    "f1_ax2.set_ylim(ymin, ymax)\n",
    "f1_ax2.set_xlabel('Occupation, kyr')  \n",
    "\n",
    "# RIGHT PLOT, heatmap of sea level occupation xxxxxxxxxxxxxxxxxxxxxxxxxxxxxxxxxxxxxxxxxxxxxxxxxxxxxxxxxxxxxxxxxxxxxxxxxxxxx\n",
    "iplt.imshow(f3M, origin='lower', interpolation='bilinear', cmap=cm.devon_r, extent=[Uminmax[0],Uminmax[1],Z_min,Z_max],\n",
    "            aspect='auto', controls=controls, ax=f1_ax3)\n",
    "clb = plt.colorbar(shrink = 0.4)\n",
    "clb.set_label('total occupation, kyr')\n",
    "\n",
    "f1_ax3.hlines(0, Uminmax[0], Uminmax[1], color='dimgrey',linewidth=1)         # plot a horizontal line at modern sea level\n",
    "iplt.axvline(f3x, ymin, ymax, controls=controls, ax=f1_ax3, color='silver',linewidth=3) # plot vertical line at current sampled uplift\n",
    "\n",
    "# cbar = fig.colorbar(cs, cax=cax)      # still to be figured out.\n",
    "f1_ax3.grid(which='major', axis='y', color='lightgrey', linewidth=0.5)    # add horizontal grid lines\n",
    "f1_ax3.set_ylim(ymin, ymax)\n",
    "f1_ax3.set_ylabel('')  \n",
    "f1_ax3.set_xlabel('Rock uplift rate, mm/yr')\n",
    "f1_ax3.set_title('Total sea level occupation');"
   ]
  },
  {
   "cell_type": "code",
   "execution_count": null,
   "id": "conservative-expense",
   "metadata": {},
   "outputs": [],
   "source": []
  }
 ],
 "metadata": {
  "kernelspec": {
   "display_name": "Python 3",
   "language": "python",
   "name": "python3"
  },
  "language_info": {
   "codemirror_mode": {
    "name": "ipython",
    "version": 3
   },
   "file_extension": ".py",
   "mimetype": "text/x-python",
   "name": "python",
   "nbconvert_exporter": "python",
   "pygments_lexer": "ipython3",
   "version": "3.8.8"
  }
 },
 "nbformat": 4,
 "nbformat_minor": 5
}
